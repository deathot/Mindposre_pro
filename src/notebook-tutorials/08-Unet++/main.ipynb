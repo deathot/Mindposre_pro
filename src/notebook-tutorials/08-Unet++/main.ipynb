{
 "cells": [
  {
   "cell_type": "markdown",
   "id": "0b78b5d9-a7f5-41ba-a332-4142902e9b78",
   "metadata": {},
   "source": [
    "# 样例介绍\n",
    "\n",
    "功能：对图像中的细胞核进行分割  \n",
    "样例输入：未标注的生物细胞图像  \n",
    "样例输出：已经分割的细胞核图像"
   ]
  },
  {
   "cell_type": "markdown",
   "id": "6dcb5192-6a00-4c67-a68e-55a8704be70d",
   "metadata": {},
   "source": [
    "# 前期准备\n",
    "\n",
    "基础镜像的样例目录中已包含转换后的om模型以及测试图片，如果直接运行，可跳过此步骤。如果需要重新转换模型，可参考如下步骤：\n",
    "1. 获取模型和测试数据。我们可以在[这个链接](https://ascend-repo.obs.cn-east-2.myhuaweicloud.com/Atlas%20200I%20DK%20A2/DevKit/downloads/23.0.RC1/Ascend-devkit_23.0.RC1_downloads.xlsx)的表格中找到本样例的依赖文件，将模型和测试数据下载到本地，并放到本样例目录下。\n",
    "2. 模型转换。利用atc工具将原始模型转换为om模型，转换命令如下：  \n",
    "    ```shell\n",
    "    atc --framework=5 --model=./unetplusplus.onnx --input_format=NCHW --input_shape=\"actual_input_1:1,3,96,96\" --output=unetplusplus --log=error --soc_version=Ascend310B1\n",
    "    ```\n",
    "\n",
    "    其中各个参数具体含义如下：\n",
    "    * --framework：原始框架类型,  0: Caffe, 1: MindSpore, 3: TensorFlow, 5: ONNX。\n",
    "    * --model：原始onnx模型文件。\n",
    "    * --input_format：输入Tensor的内存排列方式。\n",
    "    * --input_shape：模型输入节点名称和shape。\n",
    "    * --output：输出的模型文件路径。\n",
    "    * --log：打印的日志级别。error表示只输出error类别的信息。\n",
    "    * --soc_version：昇腾AI处理器型号，此处为\"Ascend310B1\"。"
   ]
  },
  {
   "cell_type": "markdown",
   "id": "33cdd5c0-1b1b-4f36-8076-b1c6da06e672",
   "metadata": {},
   "source": [
    "# 模型推理实现"
   ]
  },
  {
   "cell_type": "markdown",
   "id": "5b37a82c-6dea-49c5-8855-24d29f4b6a14",
   "metadata": {},
   "source": [
    "### 1. 导入三方库"
   ]
  },
  {
   "cell_type": "code",
   "execution_count": null,
   "id": "b77f9f30-43d8-425e-9b45-71f39879c9e9",
   "metadata": {},
   "outputs": [],
   "source": [
    "import cv2\n",
    "import numpy as np\n",
    "from albumentations.augmentations import transforms\n",
    "import matplotlib.pyplot as plt\n",
    "\n",
    "import acl\n",
    "import acllite_utils as utils\n",
    "from acllite_model import AclLiteModel\n",
    "from acllite_resource import resource_list"
   ]
  },
  {
   "cell_type": "markdown",
   "id": "fe338da8-41c2-44e2-8b1a-22f178c713ce",
   "metadata": {},
   "source": [
    "### 2. 定义acllite资源初始化与去初始化类"
   ]
  },
  {
   "cell_type": "code",
   "execution_count": null,
   "id": "757fb733-3b76-4adc-b5f5-42244116074d",
   "metadata": {},
   "outputs": [],
   "source": [
    "class AclLiteResource:\n",
    "    \"\"\"\n",
    "    AclLiteResource\n",
    "    \"\"\"\n",
    "    def __init__(self, device_id=0):\n",
    "        self.device_id = device_id\n",
    "        self.context = None\n",
    "        self.stream = None\n",
    "        self.run_mode = None\n",
    "        \n",
    "    def init(self):\n",
    "        \"\"\"\n",
    "        init resource\n",
    "        \"\"\"\n",
    "        print(\"init resource stage:\")\n",
    "        ret = acl.init()\n",
    "\n",
    "        ret = acl.rt.set_device(self.device_id)\n",
    "        utils.check_ret(\"acl.rt.set_device\", ret)\n",
    "\n",
    "        self.context, ret = acl.rt.create_context(self.device_id)\n",
    "        utils.check_ret(\"acl.rt.create_context\", ret)\n",
    "\n",
    "        self.stream, ret = acl.rt.create_stream()\n",
    "        utils.check_ret(\"acl.rt.create_stream\", ret)\n",
    "\n",
    "        self.run_mode, ret = acl.rt.get_run_mode()\n",
    "        utils.check_ret(\"acl.rt.get_run_mode\", ret)\n",
    "\n",
    "        print(\"Init resource success\")\n",
    "\n",
    "    def __del__(self):\n",
    "        print(\"acl resource release all resource\")\n",
    "        resource_list.destroy()\n",
    "        if self.stream:\n",
    "            print(\"acl resource release stream\")\n",
    "            acl.rt.destroy_stream(self.stream)\n",
    "\n",
    "        if self.context:\n",
    "            print(\"acl resource release context\")\n",
    "            acl.rt.destroy_context(self.context)\n",
    "\n",
    "        print(\"Reset acl device \", self.device_id)\n",
    "        acl.rt.reset_device(self.device_id)\n",
    "        print(\"Release acl resource success\")"
   ]
  },
  {
   "cell_type": "markdown",
   "id": "11095593-fe4d-4646-81ac-0eef79bfffa7",
   "metadata": {},
   "source": [
    "### 3. 定义前后处理所需要的函数"
   ]
  },
  {
   "cell_type": "code",
   "execution_count": null,
   "id": "a8d099b9-9186-47f5-878d-41d904117c13",
   "metadata": {},
   "outputs": [],
   "source": [
    "def sigmoid(x):\n",
    "    y = 1.0 / (1 + np.exp(-x))  # 对矩阵的每个元素执行 1/(1+e^(-x))\n",
    "    return y\n",
    "\n",
    "\n",
    "def save_color_png(img, msk, color):\n",
    "    \"\"\" 将推理得到的 mask 覆盖到原图上 \"\"\"\n",
    "    msk = msk + 0.5  # 将像素值范围变换到 0.5~1.5，有利于下面转为二值图\n",
    "    msk = cv2.resize(msk, (img.shape[1], img.shape[0]))  # 将 mask 缩放到原图大小\n",
    "    msk = np.array(msk, np.uint8)  # 转为二值图，只包含 0 和 1\n",
    "    contours, _ = cv2.findContours(msk, cv2.RETR_EXTERNAL, cv2.CHAIN_APPROX_SIMPLE)\n",
    "\n",
    "    if color=='red':\n",
    "        cv2.drawContours(img, contours, -1, (0, 0, 255), 1) \n",
    "        img[..., 2] = np.where(msk == 1, 255, img[..., 2])  # 将轮廓线以内（即分割区域）覆盖上一层红色\n",
    "\n",
    "    return img"
   ]
  },
  {
   "cell_type": "markdown",
   "id": "95550f93-19cd-4e6b-b59b-deacb81b90b9",
   "metadata": {},
   "source": [
    "### 4. 构造主函数，串联整个代码逻辑"
   ]
  },
  {
   "cell_type": "code",
   "execution_count": null,
   "id": "3b59d3fc-e558-4cfe-81fb-075c2bbc64a4",
   "metadata": {},
   "outputs": [],
   "source": [
    "def main():\n",
    "    pic_input = 'img.png'  # 单张图片\n",
    "    model_path = \"unetplusplus.om\"  # 模型路径\n",
    "\n",
    "    # 类别数量\n",
    "    num_class = 1 \n",
    "\n",
    "    # acl初始化\n",
    "    acl_resource = AclLiteResource()\n",
    "    acl_resource.init()\n",
    "\n",
    "    # 加载模型\n",
    "    model = AclLiteModel(model_path)  \n",
    "\n",
    "    # 读入图片\n",
    "    img_bgr = cv2.imread(pic_input)\n",
    "\n",
    "    # 前处理\n",
    "    img = cv2.resize(img_bgr, (96, 96))  # 将原图缩放到 96*96 大小\n",
    "    nor = transforms.Normalize()  \n",
    "    img = nor.apply(img)  # 将像素值归一化（减去均值除以方差）\n",
    "    img = img.astype('float32') / 255  # 将像素值缩放到 0~1 范围内\n",
    "    img = img.transpose(2, 0, 1)  # 将形状转换为 channel first (3, 96, 96)\n",
    "\n",
    "    # 推理\n",
    "    model_out = model.execute([img, ])  # 将图片放入模型进行推理，输出为列表形式，若模型只有一个输出，则只包含一个元素\n",
    "    model_out_msk = model_out[0]  # 取出模型推理结果，推理结果形状为 (1, 1, 96, 96),即（batchsize, num_class, height, width）\n",
    "\n",
    "    # 后处理\n",
    "    color_list = ['red']  # 显示推理结果时覆盖的颜色\n",
    "    model_out_msk = sigmoid(model_out_msk[0][0])  # 将模型输出变换到 0~1 范围内\n",
    "    img_to_save = save_color_png(img_bgr, model_out_msk, color_list[0])  # 将处理后的输出画在原图上，并返回\n",
    "\n",
    "    # 画出推理结果\n",
    "    plt.axis('off')\n",
    "    plt.xticks([])\n",
    "    plt.yticks([])\n",
    "    img_to_save = img_to_save[:,:,[2,1,0]]\n",
    "    plt.imshow(img_to_save)"
   ]
  },
  {
   "cell_type": "markdown",
   "id": "d546ef3f-9525-47a3-be33-c5a44075a5ef",
   "metadata": {},
   "source": [
    "### 5. 运行\n",
    "运行完成后，会显示推理后的图片，覆盖为红色的部分即为分割出的细胞核。"
   ]
  },
  {
   "cell_type": "code",
   "execution_count": null,
   "id": "8c4cc58b-55b1-4f28-9937-86197e970dec",
   "metadata": {},
   "outputs": [],
   "source": [
    "main()"
   ]
  },
  {
   "cell_type": "markdown",
   "id": "57f27d5a-df49-4942-b7a8-2daed636a1ce",
   "metadata": {},
   "source": [
    "# 样例总结"
   ]
  },
  {
   "cell_type": "markdown",
   "id": "180a790e-9d38-45b9-a879-8d012440f9c9",
   "metadata": {},
   "source": [
    "我们来回顾一下以上代码，可以包括以下几个步骤：\n",
    "1. 初始化acl资源：在调用acl相关资源时，必须先初始化AscendCL，否则可能会导致后续系统内部资源初始化出错。  \n",
    "2. 对图片进行前处理：在此样例中，我们首先利用opencv读入图片，再对图片进行缩放、标准化、维度转换等操作。\n",
    "3. 推理：利用AclLiteModel.execute接口对图片进行推理。    \n",
    "4. 对推理结果进行后处理：把模型输出mask利用sigmoid压缩到0-1范围内，再检测其轮廓，最后将分割区域（轮廓内部）填充为红色。  \n",
    "5. 可视化图片：在界面画出填充颜色后的分割结果。"
   ]
  }
 ],
 "metadata": {
  "kernelspec": {
   "display_name": "Python 3 (ipykernel)",
   "language": "python",
   "name": "python3"
  },
  "language_info": {
   "codemirror_mode": {
    "name": "ipython",
    "version": 3
   },
   "file_extension": ".py",
   "mimetype": "text/x-python",
   "name": "python",
   "nbconvert_exporter": "python",
   "pygments_lexer": "ipython3",
   "version": "3.9.2"
  },
  "vscode": {
   "interpreter": {
    "hash": "5d4380103ee16a53c08c2072b2cf7372aea12e3655e7cb36be2874465cdcb878"
   }
  }
 },
 "nbformat": 4,
 "nbformat_minor": 5
}
