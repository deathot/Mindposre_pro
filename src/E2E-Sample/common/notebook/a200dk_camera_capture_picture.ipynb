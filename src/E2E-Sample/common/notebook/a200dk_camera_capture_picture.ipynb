{
 "cells": [
  {
   "cell_type": "markdown",
   "id": "24141ba0-9452-4d03-9019-dbe442a7f5af",
   "metadata": {},
   "source": [
    "# 说明\n",
    "这个笔记本用于Atlas 200DK摄像头采集图片数据，保存到Atlas 200DK本地文件夹。\n",
    "启动后，用户可以实时查看200DK摄像头视频画面，每点击一次**保存图片**按钮，会将当前视频画面截获，并保存到本地文件夹\n",
    "\n",
    "- 文件夹命令：Images-<系统时间> , 例如：Images-2022-11-10-13_36_54\n",
    "- 图片命名：<系统时间>.jpg , 例如：2022-11-10-13_43_26.jpg\n",
    "\n",
    "# 依赖条件\n",
    "1. 下载[Ascend Sample代码仓](https://gitee.com/ascend/samples)到A200DK\n",
    "2. 参考[Ascend Sample代码仓 python环境准备](https://gitee.com/ascend/samples/tree/master/python/environment)章节准备依赖环境，主要是`acllite`库的安装和环境变量设置\n",
    "\n",
    "\n",
    "# 实现说明\n",
    "通过4个线程（摄像头实时画面捕获线程、界面显示线程、图片文件保存线程、主线程）来完成图片数据的采集、保存。主线程用于整个程序的启动-停止控制。\n",
    "其中用到了`queue.Queue`模块来缓存图片数据，使用缓存队列的目的是对实时摄像头画面截获 与 慢速图片数据写入文件 2个线程之间传递数据。\n"
   ]
  },
  {
   "cell_type": "code",
   "execution_count": 1,
   "id": "d6c8d04f-d78d-4393-b1df-8e4733a08042",
   "metadata": {},
   "outputs": [],
   "source": [
    "import os\n",
    "import sys\n",
    "import time\n",
    "import queue\n",
    "import threading\n",
    "\n",
    "import cv2\n",
    "import numpy as np\n",
    "import ipywidgets as widgets\n",
    "from ipyevents import Event \n",
    "from IPython.display import display\n",
    "\n",
    "from cameracapture import CameraCapture\n",
    "from acllite_resource import AclLiteResource\n",
    "from acllite_imageproc import AclLiteImageProc\n",
    "\n",
    "\n",
    "CAMERA_FRAME_WIDTH = 1080\n",
    "CAMERA_FRAME_HEIGHT = 720\n",
    "\n",
    "# https://pypi.org/project/ipywidgets/\n",
    "imgbox = widgets.Image(format='jpg', height=CAMERA_FRAME_HEIGHT, width=CAMERA_FRAME_WIDTH)\n",
    "\n",
    "\n",
    "FLAG = True\n",
    "IMAGE = False\n",
    "\n",
    "q = queue.Queue(maxsize=10)\n",
    "\n",
    "uuid_str = time.strftime(\"%Y-%m-%d-%H_%M_%S\", time.localtime())\n",
    "tmp_folder_name ='Images-%s' % uuid_str\n",
    "os.makedirs(tmp_folder_name, exist_ok=True)\n",
    "\n",
    "# 获取摄像头画面并实时显示 线程函数\n",
    "def capture_video():\n",
    "    display(imgbox)\n",
    "    \n",
    "    #Initialize acl\n",
    "    acl_resource = AclLiteResource()\n",
    "    acl_resource.init()\n",
    "    dvpp = AclLiteImageProc(acl_resource)\n",
    "\n",
    "    #Open the CARAMER0 camera on the development board\n",
    "    cap = CameraCapture(0)\n",
    "    \n",
    "    global FLAG\n",
    "    while FLAG:\n",
    "        # Read a picture from the camera\n",
    "        image = cap.read()  # YUV420SP NV12 format\n",
    "        if image is None:\n",
    "            print(\"Get memory from camera failed\")\n",
    "            break\n",
    "        jpeg_image = dvpp.jpege(image) # encode to jpeg format\n",
    "        img = jpeg_image.byte_data_to_np_array() \n",
    "        imgbox.value = img\n",
    "        \n",
    "        global IMAGE\n",
    "        if IMAGE:\n",
    "            if q.full():\n",
    "                continue\n",
    "            else:\n",
    "                q.put(img)\n",
    "            IMAGE = False\n",
    "\n",
    "\n",
    "# 捕获摄像头画面 IMAGE 控制全局变量\n",
    "def cap_image(change):\n",
    "    global IMAGE\n",
    "    IMAGE = True\n",
    "\n",
    "# 捕获摄像头画面按钮显示 线程函数\n",
    "def button_control():\n",
    "    # 创建按钮\n",
    "    button_layout = widgets.Layout(width='100px', height='80px', align_self='center')\n",
    "    get_image_button = widgets.Button(description='保存图片', button_style='danger', layout=button_layout)\n",
    "    \n",
    "    # 显示按钮\n",
    "    middle_box = widgets.HBox([get_image_button], layout=widgets.Layout(align_self='center'))\n",
    "    \n",
    "    # link buttons to actions\n",
    "    get_image_button.on_click(cap_image) \n",
    "    display(middle_box)\n",
    "\n",
    "\n",
    "# 保存图片到文件 线程函数\n",
    "def save_image():\n",
    "    while FLAG:\n",
    "        img = q.get()\n",
    "        uuid_str = time.strftime(\"%Y-%m-%d-%H_%M_%S\",time.localtime())\n",
    "        tmp_file_name ='%s.jpg' % uuid_str\n",
    "        tmp_file_path = os.path.join(tmp_folder_name, tmp_file_name)\n",
    "        img.tofile(tmp_file_path)\n",
    "    "
   ]
  },
  {
   "cell_type": "code",
   "execution_count": 2,
   "id": "c779032b-25fe-4d87-a45f-f69d48dc1c8d",
   "metadata": {},
   "outputs": [
    {
     "data": {
      "application/vnd.jupyter.widget-view+json": {
       "model_id": "e420bf3777d4450680112d89c18152a9",
       "version_major": 2,
       "version_minor": 0
      },
      "text/plain": [
       "Image(value=b'', format='jpg', height='720', width='1080')"
      ]
     },
     "metadata": {},
     "output_type": "display_data"
    },
    {
     "name": "stdout",
     "output_type": "stream",
     "text": [
      "init resource stage:\n",
      "Init resource success\n"
     ]
    },
    {
     "data": {
      "application/vnd.jupyter.widget-view+json": {
       "model_id": "e313c0761de44ca8b11a440f39d8cc4d",
       "version_major": 2,
       "version_minor": 0
      },
      "text/plain": [
       "HBox(children=(Button(button_style='danger', description='保存图片', layout=Layout(align_self='center', height='80…"
      ]
     },
     "metadata": {},
     "output_type": "display_data"
    }
   ],
   "source": [
    "thread1 = threading.Thread(name='t1',target=capture_video, args=())\n",
    "thread1.start()\n",
    "\n",
    "thread2 = threading.Thread(name='t2',target=button_control, args=())\n",
    "thread2.start()\n",
    "\n",
    "thread3 = threading.Thread(name='t3',target=save_image, args=())\n",
    "thread3.start()"
   ]
  },
  {
   "cell_type": "code",
   "execution_count": null,
   "id": "9a7bfd83-4813-4e20-89a7-f6bc9f0c450e",
   "metadata": {},
   "outputs": [
    {
     "name": "stdout",
     "output_type": "stream",
     "text": [
      "acl resource release all resource\n",
      "dvpp resource release success\n",
      "acl resource release stream\n",
      "acl resource release context\n",
      "Reset acl device  0\n",
      "Release acl resource success\n",
      "Close camera 0\n"
     ]
    }
   ],
   "source": [
    "FLAG = False\n",
    "thread1.join()\n",
    "thread2.join()\n",
    "thread3.join()"
   ]
  },
  {
   "cell_type": "code",
   "execution_count": null,
   "id": "a39dfc34-ee08-4377-82c6-466ba129f7ba",
   "metadata": {},
   "outputs": [],
   "source": []
  }
 ],
 "metadata": {
  "kernelspec": {
   "display_name": "Python 3 (ipykernel)",
   "language": "python",
   "name": "python3"
  },
  "language_info": {
   "codemirror_mode": {
    "name": "ipython",
    "version": 3
   },
   "file_extension": ".py",
   "mimetype": "text/x-python",
   "name": "python",
   "nbconvert_exporter": "python",
   "pygments_lexer": "ipython3",
   "version": "3.9.7"
  }
 },
 "nbformat": 4,
 "nbformat_minor": 5
}
