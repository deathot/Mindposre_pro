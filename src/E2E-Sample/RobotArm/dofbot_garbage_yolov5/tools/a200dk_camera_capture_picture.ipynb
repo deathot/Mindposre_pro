{
 "cells": [
  {
   "cell_type": "markdown",
   "id": "b579b24e",
   "metadata": {},
   "source": [
    "## 前置：垃圾分类玩法.ipynb，完成`calibration_ok`"
   ]
  },
  {
   "cell_type": "markdown",
   "id": "24141ba0-9452-4d03-9019-dbe442a7f5af",
   "metadata": {},
   "source": [
    "# 说明\n",
    "这个笔记本用于Atlas 200DK摄像头采集图片数据，保存到Atlas 200DK本地文件夹。\n",
    "启动后，用户可以实时查看200DK摄像头视频画面，每点击一次**保存图片**按钮，会将当前视频画面截获，并保存到本地文件夹\n",
    "\n",
    "- 文件夹命令：Images-<系统时间> , 例如：Images-2022-11-10-13_36_54\n",
    "- 图片命名：<系统时间>.jpg , 例如：2022-11-10-13_43_26.jpg\n",
    "\n",
    "# 依赖条件\n",
    "1. 下载[Ascend Sample代码仓](https://gitee.com/ascend/samples)到A200DK\n",
    "2. 参考[Ascend Sample代码仓 python环境准备](https://gitee.com/ascend/samples/tree/master/python/environment)章节准备依赖环境，主要是`acllite`库的安装和环境变量设置\n",
    "\n",
    "\n",
    "# 实现说明\n",
    "通过4个线程（摄像头实时画面捕获线程、界面显示线程、图片文件保存线程、主线程）来完成图片数据的采集、保存。主线程用于整个程序的启动-停止控制。\n",
    "其中用到了`queue.Queue`模块来缓存图片数据，使用缓存队列的目的是对实时摄像头画面截获 与 慢速图片数据写入文件 2个线程之间传递数据。\n"
   ]
  },
  {
   "cell_type": "code",
   "execution_count": 1,
   "id": "d6c8d04f-d78d-4393-b1df-8e4733a08042",
   "metadata": {},
   "outputs": [],
   "source": [
    "import os\n",
    "import sys\n",
    "import time\n",
    "import queue\n",
    "import threading\n",
    "\n",
    "import cv2\n",
    "import numpy as np\n",
    "import ipywidgets as widgets\n",
    "from ipyevents import Event \n",
    "from IPython.display import display\n",
    "from dofbot_config import *\n",
    "\n",
    "pkg_dir = os.path.dirname(os.path.realpath(\"__file__\"))\n",
    "cfg_dir = os.path.join(pkg_dir, \"config\")\n",
    "XYT_cfg_dir = os.path.join(cfg_dir, \"XYT_config.txt\")\n",
    "data_idx_cfg_dir = os.path.join(cfg_dir, \"data_collect_idx.txt\")\n",
    "dp_cfg_dir = os.path.join(cfg_dir, \"dp.bin\")\n",
    "XYT_path = XYT_cfg_dir\n",
    "\n",
    "\n",
    "CAMERA_FRAME_WIDTH = 640\n",
    "CAMERA_FRAME_HEIGHT = 480\n",
    "\n",
    "# https://pypi.org/project/ipywidgets/\n",
    "imgbox = widgets.Image(format='jpg', height=CAMERA_FRAME_HEIGHT, width=CAMERA_FRAME_WIDTH)\n",
    "\n",
    "\n",
    "FLAG = True\n",
    "IMAGE = False\n",
    "CALIB = True # REVISE\n",
    "\n",
    "q = queue.Queue(maxsize=10)\n",
    "calibration = Arm_Calibration()\n",
    "\n",
    "uuid_str = time.strftime(\"%Y-%m-%d-%H_%M_%S\", time.localtime())\n",
    "tmp_folder_name ='Images-%s' % uuid_str\n",
    "os.makedirs(tmp_folder_name, exist_ok=True)\n",
    "\n",
    "\n",
    "# 获取摄像头画面并实时显示 线程函数\n",
    "def capture_video():\n",
    "    display(imgbox)\n",
    "    \n",
    "    capture = cv2.VideoCapture(0)\n",
    "    \n",
    "    while capture.isOpened():\n",
    "        # Read a picture from the camera\n",
    "        _, image = capture.read()\n",
    "        if image is None:\n",
    "            print(\"Get memory from camera failed\")\n",
    "            break\n",
    "        \n",
    "        if CALIB:\n",
    "            dp = np.fromfile(dp_cfg_dir, dtype=np.int32)\n",
    "            dp = dp.reshape(4,2)\n",
    "\n",
    "            image = calibration.Perspective_transform(dp, image)\n",
    "            \n",
    "        imgbox.value = cv2.imencode('.jpg', image)[1].tobytes()\n",
    "        \n",
    "        global IMAGE\n",
    "        if IMAGE:\n",
    "            if q.full():\n",
    "                continue\n",
    "            else:\n",
    "                q.put(image)\n",
    "            IMAGE = False\n",
    "\n",
    "\n",
    "# 捕获摄像头画面 IMAGE 控制全局变量\n",
    "def cap_image(change):\n",
    "    global IMAGE\n",
    "    IMAGE = True\n",
    "\n",
    "# 捕获摄像头画面按钮显示 线程函数\n",
    "def button_control():\n",
    "    # 创建按钮\n",
    "    button_layout = widgets.Layout(width='100px', height='80px', align_self='center')\n",
    "    get_image_button = widgets.Button(description='保存图片', button_style='danger', layout=button_layout)\n",
    "    \n",
    "    # 显示按钮\n",
    "    middle_box = widgets.HBox([get_image_button], layout=widgets.Layout(align_self='center'))\n",
    "    \n",
    "    # link buttons to actions\n",
    "    get_image_button.on_click(cap_image) \n",
    "    display(middle_box)\n",
    "\n",
    "\n",
    "# 保存图片到文件 线程函数\n",
    "def save_image():\n",
    "    while FLAG:\n",
    "        img = q.get()\n",
    "        with open(data_idx_cfg_dir, \"r\") as f:\n",
    "            contents = f.readline()\n",
    "            count = int(contents)\n",
    "        uuid_str = str(count)\n",
    "        tmp_file_name ='%s.jpg' % uuid_str\n",
    "        print(os.path.join(tmp_folder_name, tmp_file_name))\n",
    "        print(img.shape)\n",
    "        print(type(img))\n",
    "        if not cv.imwrite(os.path.join(tmp_folder_name, tmp_file_name), img):\n",
    "            raise Exception(\"Could not write images\")\n",
    "        \n",
    "        with open(data_idx_cfg_dir, \"w\") as f:\n",
    "            count += 1\n",
    "            f.write(str(count))\n",
    "    "
   ]
  },
  {
   "cell_type": "code",
   "execution_count": 2,
   "id": "c779032b-25fe-4d87-a45f-f69d48dc1c8d",
   "metadata": {},
   "outputs": [
    {
     "data": {
      "application/vnd.jupyter.widget-view+json": {
       "model_id": "69e55cd3fd584fd3b341bac6fa4f5eb3",
       "version_major": 2,
       "version_minor": 0
      },
      "text/plain": [
       "Image(value=b'', format='jpg', height='480', width='640')"
      ]
     },
     "metadata": {},
     "output_type": "display_data"
    },
    {
     "data": {
      "application/vnd.jupyter.widget-view+json": {
       "model_id": "5783c3d4095b47a5997b415480104f95",
       "version_major": 2,
       "version_minor": 0
      },
      "text/plain": [
       "HBox(children=(Button(button_style='danger', description='保存图片', layout=Layout(align_self='center', height='80…"
      ]
     },
     "metadata": {},
     "output_type": "display_data"
    }
   ],
   "source": [
    "thread1 = threading.Thread(name='t1',target=capture_video, args=())\n",
    "thread1.start()\n",
    "\n",
    "thread2 = threading.Thread(name='t2',target=button_control, args=())\n",
    "thread2.start()\n",
    "\n",
    "thread3 = threading.Thread(name='t3',target=save_image, args=())\n",
    "thread3.start()"
   ]
  },
  {
   "cell_type": "code",
   "execution_count": null,
   "id": "9a7bfd83-4813-4e20-89a7-f6bc9f0c450e",
   "metadata": {},
   "outputs": [],
   "source": [
    "FLAG = False\n",
    "thread1.join()\n",
    "thread2.join()\n",
    "thread3.join()"
   ]
  },
  {
   "cell_type": "code",
   "execution_count": null,
   "id": "a39dfc34-ee08-4377-82c6-466ba129f7ba",
   "metadata": {},
   "outputs": [],
   "source": []
  },
  {
   "cell_type": "code",
   "execution_count": null,
   "id": "8cc493c3-fecc-48e5-bf2f-579ed493f908",
   "metadata": {},
   "outputs": [],
   "source": []
  }
 ],
 "metadata": {
  "kernelspec": {
   "display_name": "Python 3 (ipykernel)",
   "language": "python",
   "name": "python3"
  },
  "language_info": {
   "codemirror_mode": {
    "name": "ipython",
    "version": 3
   },
   "file_extension": ".py",
   "mimetype": "text/x-python",
   "name": "python",
   "nbconvert_exporter": "python",
   "pygments_lexer": "ipython3",
   "version": "3.10.9"
  }
 },
 "nbformat": 4,
 "nbformat_minor": 5
}
